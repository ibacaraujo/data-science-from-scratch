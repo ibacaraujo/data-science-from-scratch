{
 "cells": [
  {
   "cell_type": "code",
   "execution_count": 1,
   "metadata": {},
   "outputs": [],
   "source": [
    "users = [\n",
    "    {\"id\": 0, \"name\": \"Hero\"},\n",
    "    {\"id\": 1, \"name\": \"Dunn\"},\n",
    "    {\"id\": 2, \"name\": \"Sue\"},\n",
    "    {\"id\": 3, \"name\": \"Chi\"},\n",
    "    {\"id\": 4, \"name\": \"Thor\"},\n",
    "    {\"id\": 5, \"name\": \"Clive\"},\n",
    "    {\"id\": 6, \"name\": \"Hicks\"},\n",
    "    {\"id\": 7, \"name\": \"Devin\"},\n",
    "    {\"id\": 8, \"name\": \"Kate\"},\n",
    "    {\"id\": 9, \"name\": \"Klein\"}\n",
    "]"
   ]
  },
  {
   "cell_type": "code",
   "execution_count": 2,
   "metadata": {},
   "outputs": [],
   "source": [
    "friendship_pairs = [(0, 1), (0, 2), (1, 2), (1, 3), (2, 3), (3, 4),\n",
    "                   (4, 5), (5, 6), (5, 7), (6, 8), (7, 8), (8, 9)]"
   ]
  },
  {
   "cell_type": "code",
   "execution_count": 3,
   "metadata": {},
   "outputs": [],
   "source": [
    "# Initialize the dict with an empty list for each user id:\n",
    "friendships = {user[\"id\"]: [] for user in users}\n",
    "\n",
    "# And loop over the friendship pairs to populate it:\n",
    "for i, j in friendship_pairs:\n",
    "    friendships[i].append(j) # Add j as a friend of user i\n",
    "    friendships[j].append(i) # Add i as a friend of user j"
   ]
  },
  {
   "cell_type": "code",
   "execution_count": 4,
   "metadata": {},
   "outputs": [
    {
     "data": {
      "text/plain": [
       "{0: [1, 2],\n",
       " 1: [0, 2, 3],\n",
       " 2: [0, 1, 3],\n",
       " 3: [1, 2, 4],\n",
       " 4: [3, 5],\n",
       " 5: [4, 6, 7],\n",
       " 6: [5, 8],\n",
       " 7: [5, 8],\n",
       " 8: [6, 7, 9],\n",
       " 9: [8]}"
      ]
     },
     "execution_count": 4,
     "metadata": {},
     "output_type": "execute_result"
    }
   ],
   "source": [
    "friendships"
   ]
  },
  {
   "cell_type": "code",
   "execution_count": 5,
   "metadata": {},
   "outputs": [],
   "source": [
    "def number_of_friends(user):\n",
    "    \"\"\"How many friends does _user_ have?\"\"\"\n",
    "    user_id = user[\"id\"]\n",
    "    friends_ids = friendships[user_id]\n",
    "    return len(friends_ids)"
   ]
  },
  {
   "cell_type": "code",
   "execution_count": 8,
   "metadata": {},
   "outputs": [
    {
     "data": {
      "text/plain": [
       "24"
      ]
     },
     "execution_count": 8,
     "metadata": {},
     "output_type": "execute_result"
    }
   ],
   "source": [
    "total_connections = sum(number_of_friends(user) for user in users); total_connections"
   ]
  },
  {
   "cell_type": "code",
   "execution_count": 9,
   "metadata": {},
   "outputs": [
    {
     "data": {
      "text/plain": [
       "2.4"
      ]
     },
     "execution_count": 9,
     "metadata": {},
     "output_type": "execute_result"
    }
   ],
   "source": [
    "num_users = len(users) # the length of users list\n",
    "avg_connections = total_connections / num_users; avg_connections"
   ]
  },
  {
   "cell_type": "code",
   "execution_count": 11,
   "metadata": {},
   "outputs": [
    {
     "data": {
      "text/plain": [
       "[(0, 2),\n",
       " (1, 3),\n",
       " (2, 3),\n",
       " (3, 3),\n",
       " (4, 2),\n",
       " (5, 3),\n",
       " (6, 2),\n",
       " (7, 2),\n",
       " (8, 3),\n",
       " (9, 1)]"
      ]
     },
     "execution_count": 11,
     "metadata": {},
     "output_type": "execute_result"
    }
   ],
   "source": [
    "# Create a list (user_id, number_of_friends)\n",
    "num_friends_by_id = [(user[\"id\"], number_of_friends(user))\n",
    "                    for user in users]\n",
    "num_friends_by_id"
   ]
  },
  {
   "cell_type": "code",
   "execution_count": 14,
   "metadata": {},
   "outputs": [
    {
     "data": {
      "text/plain": [
       "[(1, 3),\n",
       " (2, 3),\n",
       " (3, 3),\n",
       " (5, 3),\n",
       " (8, 3),\n",
       " (0, 2),\n",
       " (4, 2),\n",
       " (6, 2),\n",
       " (7, 2),\n",
       " (9, 1)]"
      ]
     },
     "execution_count": 14,
     "metadata": {},
     "output_type": "execute_result"
    }
   ],
   "source": [
    "num_friends_by_id.sort(\n",
    "    # Sort the list\n",
    "    key=lambda id_and_friends: id_and_friends[1], # by number of friends\n",
    "    reverse=True) # largest to smallest\n",
    "num_friends_by_id"
   ]
  },
  {
   "cell_type": "code",
   "execution_count": 15,
   "metadata": {},
   "outputs": [],
   "source": [
    "def foaf_ids_bad(user):\n",
    "    \"\"\"foaf is short for \"friend of a friend\" \"\"\"\n",
    "    return [foaf_id for friend_id in friendships[user[\"id\"]]\n",
    "           for foaf_id in friendships[friend_id]]"
   ]
  },
  {
   "cell_type": "code",
   "execution_count": 16,
   "metadata": {},
   "outputs": [
    {
     "data": {
      "text/plain": [
       "[0, 2, 3, 0, 1, 3]"
      ]
     },
     "execution_count": 16,
     "metadata": {},
     "output_type": "execute_result"
    }
   ],
   "source": [
    "foaf_ids_bad(users[0])"
   ]
  },
  {
   "cell_type": "code",
   "execution_count": 17,
   "metadata": {},
   "outputs": [
    {
     "name": "stdout",
     "output_type": "stream",
     "text": [
      "[1, 2]\n",
      "[0, 2, 3]\n",
      "[0, 1, 3]\n"
     ]
    }
   ],
   "source": [
    "print(friendships[0])\n",
    "print(friendships[1])\n",
    "print(friendships[2])"
   ]
  },
  {
   "cell_type": "code",
   "execution_count": 18,
   "metadata": {},
   "outputs": [
    {
     "name": "stdout",
     "output_type": "stream",
     "text": [
      "Counter({0: 2, 5: 1})\n"
     ]
    }
   ],
   "source": [
    "from collections import Counter # not loaded by default\n",
    "def friends_of_friends(user):\n",
    "    user_id = user[\"id\"]\n",
    "    return Counter(\n",
    "        foaf_id for friend_id in friendships[user_id]\n",
    "        for foaf_id in friendships[friend_id]\n",
    "        if foaf_id != user_id and foaf_id not in friendships[user_id]\n",
    "    )\n",
    "\n",
    "print(friends_of_friends(users[3]))"
   ]
  },
  {
   "cell_type": "code",
   "execution_count": 19,
   "metadata": {},
   "outputs": [],
   "source": [
    "interests = [\n",
    "    (0, \"Hadoop\"), (0, \"Big Data\"), (0, \"HBase\"), (0, \"Java\"),\n",
    "    (0, \"Spark\"), (0, \"Storm\"), (0, \"Cassandra\"), \n",
    "    (1, \"NoSQL\"), (1, \"MongoDB\"), (1, \"Cassandra\"), (1, \"HBase\"),\n",
    "    (1, \"Postgres\"), (2, \"Python\"), (2, \"scikit-learn\"), (2, \"scipy\"),\n",
    "    (2, \"numpy\"), (2, \"statsmodels\"), (2, \"pandas\"), (3, \"R\"), (3, \"Python\"),\n",
    "    (3, \"statistics\"), (3, \"regression\"), (3, \"probability\"), \n",
    "    (4, \"machine learning\"),(4, \"regression\"), (4, \"decision trees\"), \n",
    "    (4, \"libsvm\"), (5, \"Python\"), (5, \"R\"), (5, \"Java\"), (5, \"C++\"),\n",
    "    (5, \"Haskell\"), (5, \"programming languages\"), (6, \"statistics\"),\n",
    "    (6, \"probability\"), (6, \"mathematics\"), (6, \"theory\"),\n",
    "    (7, \"machine learning\"), (7, \"scikit-learn\"), (7, \"Mahout\"),\n",
    "    (7, \"neural networks\"), (8, \"neural networks\"), (8, \"deep learning\"),\n",
    "    (8, \"Big Data\"), (8, \"artificial intelligence\"), (9, \"Hadoop\"), \n",
    "    (9, \"Java\"), (9, \"MapReduce\"), (9, \"Big Data\")\n",
    "]"
   ]
  },
  {
   "cell_type": "code",
   "execution_count": 22,
   "metadata": {},
   "outputs": [],
   "source": [
    "def data_scientists_who_like(target_interest):\n",
    "    \"\"\"Find ids of all users who like the target interest.\"\"\"\n",
    "    return [user_id for user_id, user_interest in interests\n",
    "           if user_interest == target_interest]"
   ]
  },
  {
   "cell_type": "code",
   "execution_count": 23,
   "metadata": {},
   "outputs": [
    {
     "data": {
      "text/plain": [
       "[4, 7]"
      ]
     },
     "execution_count": 23,
     "metadata": {},
     "output_type": "execute_result"
    }
   ],
   "source": [
    "data_scientists_who_like(\"machine learning\")"
   ]
  },
  {
   "cell_type": "code",
   "execution_count": 24,
   "metadata": {},
   "outputs": [],
   "source": [
    "from collections import defaultdict\n",
    "\n",
    "# Keys are interests, values are lists of users_ids with that interest\n",
    "user_ids_by_interest = defaultdict(list)\n",
    "\n",
    "for user_id, interest in interests:\n",
    "    user_ids_by_interest[interest].append(user_id)"
   ]
  },
  {
   "cell_type": "code",
   "execution_count": 25,
   "metadata": {},
   "outputs": [],
   "source": [
    "# Keys are users_ids, values are lists of interests for that user_id\n",
    "interests_by_user_id = defaultdict(list)\n",
    "\n",
    "for user_id, interest in interests:\n",
    "    interests_by_user_id[user_id].append(interest)"
   ]
  },
  {
   "cell_type": "code",
   "execution_count": 26,
   "metadata": {},
   "outputs": [],
   "source": [
    "def most_common_interests_with(user):\n",
    "    return Counter(\n",
    "        interested_user_id\n",
    "        for interest in interests_by_user_id[user[\"id\"]]\n",
    "        for interested_user_id in user_ids_by_interest[interest]\n",
    "        if interested_user_id != user[\"id\"]\n",
    "    )"
   ]
  },
  {
   "cell_type": "code",
   "execution_count": 28,
   "metadata": {},
   "outputs": [
    {
     "name": "stdout",
     "output_type": "stream",
     "text": [
      "Counter({5: 2, 6: 2, 2: 1, 4: 1})\n"
     ]
    }
   ],
   "source": [
    "print(most_common_interests_with(users[3]))"
   ]
  },
  {
   "cell_type": "code",
   "execution_count": 35,
   "metadata": {},
   "outputs": [
    {
     "data": {
      "text/plain": [
       "[(83000, 8.7),\n",
       " (88000, 8.1),\n",
       " (48000, 0.7),\n",
       " (76000, 6),\n",
       " (69000, 6.5),\n",
       " (76000, 7.5),\n",
       " (60000, 2.5),\n",
       " (83000, 10),\n",
       " (48000, 1.9),\n",
       " (63000, 4.2)]"
      ]
     },
     "execution_count": 35,
     "metadata": {},
     "output_type": "execute_result"
    }
   ],
   "source": [
    "salaries_and_tenures = [(83000, 8.7), (88000, 8.1),\n",
    "                        (48000, 0.7), (76000, 6),\n",
    "                        (69000, 6.5), (76000, 7.5),\n",
    "                        (60000, 2.5), (83000, 10),\n",
    "                        (48000, 1.9), (63000, 4.2)]\n",
    "salaries_and_tenures"
   ]
  },
  {
   "cell_type": "code",
   "execution_count": 36,
   "metadata": {},
   "outputs": [
    {
     "data": {
      "text/plain": [
       "defaultdict(list,\n",
       "            {0.7: [48000],\n",
       "             1.9: [48000],\n",
       "             2.5: [60000],\n",
       "             4.2: [63000],\n",
       "             6: [76000],\n",
       "             6.5: [69000],\n",
       "             7.5: [76000],\n",
       "             8.1: [88000],\n",
       "             8.7: [83000],\n",
       "             10: [83000]})"
      ]
     },
     "execution_count": 36,
     "metadata": {},
     "output_type": "execute_result"
    }
   ],
   "source": [
    "# Keys are years, values are lists of the salaries for each tenure\n",
    "salary_by_tenure = defaultdict(list)\n",
    "\n",
    "for salary, tenure in salaries_and_tenures:\n",
    "    salary_by_tenure[tenure].append(salary)\n",
    "\n",
    "salary_by_tenure"
   ]
  },
  {
   "cell_type": "code",
   "execution_count": 38,
   "metadata": {},
   "outputs": [
    {
     "data": {
      "text/plain": [
       "{0.7: 48000.0,\n",
       " 1.9: 48000.0,\n",
       " 2.5: 60000.0,\n",
       " 4.2: 63000.0,\n",
       " 6: 76000.0,\n",
       " 6.5: 69000.0,\n",
       " 7.5: 76000.0,\n",
       " 8.1: 88000.0,\n",
       " 8.7: 83000.0,\n",
       " 10: 83000.0}"
      ]
     },
     "execution_count": 38,
     "metadata": {},
     "output_type": "execute_result"
    }
   ],
   "source": [
    "# Keys are years, each value is average salary for that tenure\n",
    "average_salary_by_tenure = {\n",
    "    tenure: sum(salaries) / len(salaries)\n",
    "    for tenure, salaries in salary_by_tenure.items()\n",
    "}\n",
    "average_salary_by_tenure"
   ]
  },
  {
   "cell_type": "code",
   "execution_count": 39,
   "metadata": {},
   "outputs": [],
   "source": [
    "def tenure_bucket(tenure):\n",
    "    if tenure < 2:\n",
    "        return \"less than two\"\n",
    "    elif tenure < 5:\n",
    "        return \"between two and five\"\n",
    "    else:\n",
    "        return \"more than five\""
   ]
  },
  {
   "cell_type": "code",
   "execution_count": 40,
   "metadata": {},
   "outputs": [
    {
     "data": {
      "text/plain": [
       "defaultdict(list,\n",
       "            {'between two and five': [60000, 63000],\n",
       "             'less than two': [48000, 48000],\n",
       "             'more than five': [83000, 88000, 76000, 69000, 76000, 83000]})"
      ]
     },
     "execution_count": 40,
     "metadata": {},
     "output_type": "execute_result"
    }
   ],
   "source": [
    "# Keys are tenure buckets, values are lists of salaries for that bucket.\n",
    "salary_by_tenure_bucket = defaultdict(list)\n",
    "\n",
    "for salary, tenure in salaries_and_tenures:\n",
    "    bucket = tenure_bucket(tenure)\n",
    "    salary_by_tenure_bucket[bucket].append(salary)\n",
    "    \n",
    "salary_by_tenure_bucket"
   ]
  },
  {
   "cell_type": "code",
   "execution_count": 41,
   "metadata": {},
   "outputs": [
    {
     "data": {
      "text/plain": [
       "{'between two and five': 61500.0,\n",
       " 'less than two': 48000.0,\n",
       " 'more than five': 79166.66666666667}"
      ]
     },
     "execution_count": 41,
     "metadata": {},
     "output_type": "execute_result"
    }
   ],
   "source": [
    "# Keys are tenure buckets, values are average salary for that bucket.\n",
    "average_salary_by_bucket = {\n",
    "    tenure_bucket: sum(salaries) / len(salaries)\n",
    "    for tenure_bucket, salaries in salary_by_tenure_bucket.items()\n",
    "}\n",
    "average_salary_by_bucket"
   ]
  },
  {
   "cell_type": "code",
   "execution_count": 42,
   "metadata": {},
   "outputs": [],
   "source": [
    "def predict_paid_or_unpaid(years_experience):\n",
    "    if years_experience < 3.0:\n",
    "        return \"paid\"\n",
    "    elif years_experience < 8.5:\n",
    "        return \"unpaid\"\n",
    "    else:\n",
    "        return \"paid\""
   ]
  },
  {
   "cell_type": "code",
   "execution_count": 43,
   "metadata": {},
   "outputs": [],
   "source": [
    "words_and_counts = Counter(word for user, interest in interests\n",
    "                           for word in interest.lower().split())"
   ]
  },
  {
   "cell_type": "code",
   "execution_count": 45,
   "metadata": {},
   "outputs": [
    {
     "name": "stdout",
     "output_type": "stream",
     "text": [
      "big 3\n",
      "data 3\n",
      "java 3\n",
      "python 3\n",
      "learning 3\n",
      "hadoop 2\n",
      "hbase 2\n",
      "cassandra 2\n",
      "scikit-learn 2\n",
      "r 2\n",
      "statistics 2\n",
      "regression 2\n",
      "probability 2\n",
      "machine 2\n",
      "neural 2\n",
      "networks 2\n"
     ]
    }
   ],
   "source": [
    "for word, count in words_and_counts.most_common():\n",
    "    if count > 1:\n",
    "        print(word, count)"
   ]
  }
 ],
 "metadata": {
  "kernelspec": {
   "display_name": "Python 3",
   "language": "python",
   "name": "python3"
  },
  "language_info": {
   "codemirror_mode": {
    "name": "ipython",
    "version": 3
   },
   "file_extension": ".py",
   "mimetype": "text/x-python",
   "name": "python",
   "nbconvert_exporter": "python",
   "pygments_lexer": "ipython3",
   "version": "3.6.8"
  }
 },
 "nbformat": 4,
 "nbformat_minor": 2
}
