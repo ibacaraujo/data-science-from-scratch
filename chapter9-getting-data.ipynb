{
 "cells": [
  {
   "cell_type": "code",
   "execution_count": 1,
   "metadata": {},
   "outputs": [],
   "source": [
    "# stdin and stdout\n",
    "# egrep.py\n",
    "import sys, re\n",
    "\n",
    "# sys.argv is the list of command-line arguments\n",
    "# sys.argv[0] is the name of the program itself\n",
    "# sys.argv[1] will be the regex specified at the command line\n",
    "regex = sys.argv[1]\n",
    "\n",
    "# for every line passed into the script\n",
    "for line in sys.stdin:\n",
    "    # if it matches the regex, write it to stdout\n",
    "    if re.search(regex, line):\n",
    "        sys.stdout.write(line)"
   ]
  },
  {
   "cell_type": "code",
   "execution_count": 2,
   "metadata": {},
   "outputs": [
    {
     "name": "stdout",
     "output_type": "stream",
     "text": [
      "0\n"
     ]
    }
   ],
   "source": [
    "# line_count.py\n",
    "import sys\n",
    "\n",
    "count = 0\n",
    "for line in sys.stdin:\n",
    "    count += 1\n",
    "    \n",
    "# print goes to sys.stdout\n",
    "print(count)"
   ]
  },
  {
   "cell_type": "code",
   "execution_count": null,
   "metadata": {},
   "outputs": [],
   "source": [
    "# most_common_words.py\n",
    "import sys\n",
    "from collections import Counter\n",
    "\n",
    "# pass in number of words as first argument\n",
    "try:\n",
    "    num_words = int(sys.argv[1])\n",
    "except:\n",
    "    print(\"usage: most_common_words.py num_words\")\n",
    "    sys.exit(1) # nonzero exit code indicates error\n",
    "    \n",
    "counter = Counter(word.lower()\n",
    "                  for line in sys.stdin\n",
    "                  for word in line.strip().split()\n",
    "                  if word)\n",
    "\n",
    "for word, count in counter.most_common(num_words):\n",
    "    sys.stdout.write(str(count))\n",
    "    sys.stdout.write(\"\\t\")\n",
    "    sys.stdout.write(word)\n",
    "    sys.stdout.write(\"\\n\")"
   ]
  },
  {
   "cell_type": "code",
   "execution_count": null,
   "metadata": {},
   "outputs": [],
   "source": [
    "# The Basic of Text Files\n",
    "file_for_reading = open('reading_file.txt', 'r')\n",
    "file_for_reading2 = open('reading_file.txt')\n",
    "\n",
    "file_for_writing = open('writing_file.txt')\n",
    "\n",
    "file_for_appending = open('appending_file.txt')\n",
    "\n",
    "file_for_writing.close()"
   ]
  },
  {
   "cell_type": "code",
   "execution_count": null,
   "metadata": {},
   "outputs": [],
   "source": [
    "# files will be closed automatic using with block\n",
    "with open(filename) as f:\n",
    "    data = function_that_gets_data_from(f)\n",
    "    \n",
    "# don't try to use f\n",
    "process(data)"
   ]
  },
  {
   "cell_type": "code",
   "execution_count": null,
   "metadata": {},
   "outputs": [],
   "source": [
    "starts_with_hash = 0\n",
    "\n",
    "with open('input.txt') as f:\n",
    "    for line in f:\n",
    "        if re.match(\"^#\", line):\n",
    "            starts_with_hash += 1"
   ]
  },
  {
   "cell_type": "code",
   "execution_count": 9,
   "metadata": {},
   "outputs": [],
   "source": [
    "def get_domain(email_address: str) -> str:\n",
    "    return email_address.lower().split(\"@\")[-1]\n",
    "\n",
    "assert get_domain(\"joelgrus@gmail.com\") == 'gmail.com'\n",
    "assert get_domain('joel@m.datasciencester.com') == 'm.datasciencester.com'"
   ]
  },
  {
   "cell_type": "code",
   "execution_count": null,
   "metadata": {},
   "outputs": [],
   "source": [
    "from collections import Counter\n",
    "\n",
    "with open('email_addresses.txt', 'r') as f:\n",
    "    domain_counts = Counter(get_domain(line.strip())\n",
    "                           for line in f\n",
    "                           if \"@\" in line)\n",
    "    "
   ]
  },
  {
   "cell_type": "code",
   "execution_count": null,
   "metadata": {},
   "outputs": [],
   "source": [
    "import csv\n",
    "\n",
    "with open('tab_delimited_stock_prices.txt') as f:\n",
    "    tab_reader = csv.reader(f, delimiter='\\t')\n",
    "    for row in tab_reader:\n",
    "        date = row[0]\n",
    "        symbol = row[1]\n",
    "        closing_price = float(row[2])\n",
    "        process(date, symbol, closing_price)"
   ]
  },
  {
   "cell_type": "code",
   "execution_count": null,
   "metadata": {},
   "outputs": [],
   "source": [
    "with open('colon_delimited_stock_prices.txt') as f:\n",
    "    colon_reader = csv.DictReader(f, delimiter=':')\n",
    "    for dict_row in colon_reader:\n",
    "        date = dict_row['date']\n",
    "        symbol = dict_row['symbol']\n",
    "        closing_price = float(dict_row['closing-price'])\n",
    "        process(date, symbol, closing_price)"
   ]
  },
  {
   "cell_type": "code",
   "execution_count": null,
   "metadata": {},
   "outputs": [],
   "source": [
    "todays_prices = {'AAPL': 90.91, 'MSFT': 41.68, 'FB': 64.5}\n",
    "\n",
    "with open('comma_delimited_stock_prices.txt', 'w') as f:\n",
    "    csv_writer = csv.writer(f, delimiter=',')\n",
    "    for stock, price in todays_prices.items():\n",
    "        csv_writer.writerow([stock, price])"
   ]
  },
  {
   "cell_type": "code",
   "execution_count": null,
   "metadata": {},
   "outputs": [],
   "source": [
    "results = [[\"test1\", \"success\", \"Monday\"],\n",
    "           [\"test2\", \"success, kind of\", \"Tuesday\"],\n",
    "           [\"test3\", \"failure, kind of\", \"Wednesday\"],\n",
    "           [\"test4\", \"failure, utter\", \"Thursday\"]]\n",
    "\n",
    "# don't do this\n",
    "with open('bad_csv.txt', 'w') as f:\n",
    "    for row in results:\n",
    "        f.write(\",\".join(map(str, row)))\n",
    "        f.write(\"\\n\")"
   ]
  },
  {
   "cell_type": "code",
   "execution_count": 1,
   "metadata": {},
   "outputs": [],
   "source": [
    "# Scraping the Web\n",
    "from bs4 import BeautifulSoup\n",
    "import requests\n",
    "\n",
    "url = (\"https://raw.githubusercontent.com/joelgrus/data/master/getting-data.html\")\n",
    "html = requests.get(url).text\n",
    "soup = BeautifulSoup(html, 'html5lib')"
   ]
  },
  {
   "cell_type": "code",
   "execution_count": 2,
   "metadata": {},
   "outputs": [],
   "source": [
    "first_paragraph = soup.find('p') # or just soup.p"
   ]
  },
  {
   "cell_type": "code",
   "execution_count": 3,
   "metadata": {},
   "outputs": [
    {
     "data": {
      "text/plain": [
       "<p id=\"p1\">This is the first paragraph.</p>"
      ]
     },
     "execution_count": 3,
     "metadata": {},
     "output_type": "execute_result"
    }
   ],
   "source": [
    "first_paragraph"
   ]
  },
  {
   "cell_type": "code",
   "execution_count": 4,
   "metadata": {},
   "outputs": [],
   "source": [
    "first_paragraph_text = soup.p.text\n",
    "first_paragraph_words = soup.p.text.split()"
   ]
  },
  {
   "cell_type": "code",
   "execution_count": 5,
   "metadata": {},
   "outputs": [
    {
     "name": "stdout",
     "output_type": "stream",
     "text": [
      "This is the first paragraph.\n",
      "['This', 'is', 'the', 'first', 'paragraph.']\n"
     ]
    }
   ],
   "source": [
    "print(first_paragraph_text)\n",
    "print(first_paragraph_words)"
   ]
  },
  {
   "cell_type": "code",
   "execution_count": 6,
   "metadata": {},
   "outputs": [],
   "source": [
    "first_paragraph_id = soup.p['id'] # raises KeyError if no 'id'\n",
    "first_paragraph_id2 = soup.p.get('id') # returns None if no 'id'"
   ]
  },
  {
   "cell_type": "code",
   "execution_count": 7,
   "metadata": {},
   "outputs": [
    {
     "name": "stdout",
     "output_type": "stream",
     "text": [
      "p1\n",
      "p1\n"
     ]
    }
   ],
   "source": [
    "print(first_paragraph_id)\n",
    "print(first_paragraph_id2)"
   ]
  },
  {
   "cell_type": "code",
   "execution_count": 8,
   "metadata": {},
   "outputs": [],
   "source": [
    "# You can get multiple tags at once\n",
    "all_paragraphs = soup.find_all('p') # or just soup('p')\n",
    "paragraphs_with_ids = [p for p in soup('p') if p.get('id')]"
   ]
  },
  {
   "cell_type": "code",
   "execution_count": 9,
   "metadata": {},
   "outputs": [
    {
     "name": "stdout",
     "output_type": "stream",
     "text": [
      "[<p id=\"p1\">This is the first paragraph.</p>, <p class=\"important\">This is the second paragraph.</p>]\n"
     ]
    }
   ],
   "source": [
    "print(all_paragraphs)"
   ]
  },
  {
   "cell_type": "code",
   "execution_count": 10,
   "metadata": {},
   "outputs": [
    {
     "name": "stdout",
     "output_type": "stream",
     "text": [
      "[<p id=\"p1\">This is the first paragraph.</p>]\n"
     ]
    }
   ],
   "source": [
    "print(paragraphs_with_ids)"
   ]
  },
  {
   "cell_type": "code",
   "execution_count": 11,
   "metadata": {},
   "outputs": [],
   "source": [
    "important_paragraphs = soup('p', {'class' : 'important'})\n",
    "important_paragraphs2 = soup('p', 'important')\n",
    "important_paragraphs3 = [p for p in soup('p') if 'important' in p.get('class', [])]"
   ]
  },
  {
   "cell_type": "code",
   "execution_count": 12,
   "metadata": {},
   "outputs": [],
   "source": [
    "spans_inside_divs = [span for div in soup('div')\n",
    "                     for span in div('span')]"
   ]
  },
  {
   "cell_type": "code",
   "execution_count": 13,
   "metadata": {},
   "outputs": [
    {
     "data": {
      "text/plain": [
       "[<span id=\"name\">Joel</span>,\n",
       " <span id=\"twitter\">@joelgrus</span>,\n",
       " <span id=\"email\">joelgrus-at-gmail</span>]"
      ]
     },
     "execution_count": 13,
     "metadata": {},
     "output_type": "execute_result"
    }
   ],
   "source": [
    "spans_inside_divs"
   ]
  },
  {
   "cell_type": "code",
   "execution_count": 15,
   "metadata": {},
   "outputs": [
    {
     "name": "stdout",
     "output_type": "stream",
     "text": [
      "964\n"
     ]
    }
   ],
   "source": [
    "# Example: Keeping Tabs on Congress\n",
    "from bs4 import BeautifulSoup\n",
    "import requests\n",
    "\n",
    "url = \"https://www.house.gov/representatives\"\n",
    "text = requests.get(url).text\n",
    "soup = BeautifulSoup(text, 'html5lib')\n",
    "\n",
    "all_urls = [a['href'] for a in soup('a') if a.has_attr('href')]\n",
    "\n",
    "print(len(all_urls))"
   ]
  },
  {
   "cell_type": "code",
   "execution_count": 18,
   "metadata": {},
   "outputs": [
    {
     "name": "stdout",
     "output_type": "stream",
     "text": [
      "876\n"
     ]
    }
   ],
   "source": [
    "import re\n",
    "\n",
    "regex = r\"^https?://.*\\.house\\.gov/?$\"\n",
    "\n",
    "assert re.match(regex, \"http://joel.house.gov\")\n",
    "assert re.match(regex, \"https://joel.house.gov\")\n",
    "assert re.match(regex, \"http://joel.house.gov/\")\n",
    "assert re.match(regex, \"https://joel.house.gov/\")\n",
    "assert not re.match(regex, \"joel.house.gov\")\n",
    "assert not re.match(regex, \"http://joel.house.com\")\n",
    "assert not re.match(regex, \"https://joel.house.gov/biography\")\n",
    "\n",
    "good_urls = [url for url in all_urls if re.match(regex, url)]\n",
    "\n",
    "print(len(good_urls))"
   ]
  },
  {
   "cell_type": "code",
   "execution_count": 19,
   "metadata": {},
   "outputs": [
    {
     "name": "stdout",
     "output_type": "stream",
     "text": [
      "438\n"
     ]
    }
   ],
   "source": [
    "# Only 435, duplicates\n",
    "good_urls = list(set(good_urls))\n",
    "\n",
    "print(len(good_urls))"
   ]
  },
  {
   "cell_type": "code",
   "execution_count": 21,
   "metadata": {},
   "outputs": [
    {
     "name": "stdout",
     "output_type": "stream",
     "text": [
      "{'https://jayapal.house.gov/category/press-releases/'}\n"
     ]
    }
   ],
   "source": [
    "html = requests.get(\"https://jayapal.house.gov\").text\n",
    "soup = BeautifulSoup(html, 'html5lib')\n",
    "\n",
    "# Use a set because the links might appear multiple times\n",
    "links = {a['href'] for a in soup('a') if 'press releases' in a.text.lower()}\n",
    "print(links)"
   ]
  },
  {
   "cell_type": "code",
   "execution_count": 22,
   "metadata": {},
   "outputs": [
    {
     "name": "stdout",
     "output_type": "stream",
     "text": [
      "https://wilson.house.gov/: set()\n",
      "https://arrington.house.gov: {'https://arrington.house.gov/press-releases/'}\n",
      "https://lacyclay.house.gov: {'/media-center/press-releases'}\n",
      "https://kelly.house.gov: {'/press-releases'}\n",
      "https://tipton.house.gov/: {'/media/press-releases'}\n",
      "https://hoyer.house.gov/: set()\n",
      "https://payne.house.gov: {'/press-releases'}\n",
      "https://gomez.house.gov/: {'/news/documentquery.aspx?DocumentTypeID=27'}\n",
      "https://bergman.house.gov: {'/news/documentquery.aspx?DocumentTypeID=27'}\n",
      "https://escobar.house.gov: {'/media/press-releases'}\n",
      "https://correa.house.gov: {'/news'}\n",
      "https://susanwbrooks.house.gov: {'/media-center/press-releases'}\n",
      "https://roby.house.gov/: {'/newsroom/press-releases'}\n",
      "https://nunes.house.gov/: {'/News/DocumentQuery.aspx?DocumentTypeID=2133'}\n",
      "https://bass.house.gov/: {'/media-center/press-releases'}\n",
      "https://luetkemeyer.house.gov/: {'/news/DocumentQuery.aspx?DocumentTypeID=2270', '#tabb-2'}\n",
      "https://jayapal.house.gov: {'https://jayapal.house.gov/category/press-releases/'}\n",
      "https://webster.house.gov/: {'/press-releases'}\n",
      "https://gibbs.house.gov/: {'/media-center/press-releases'}\n",
      "https://bluntrochester.house.gov: set()\n",
      "https://jeffries.house.gov: {'/media-center/press-releases'}\n",
      "https://johnjoyce.house.gov/: {'/media/press-releases'}\n",
      "https://ebjohnson.house.gov: {'/media-center/press-releases'}\n",
      "https://lipinski.house.gov/: {'/press-releases/'}\n",
      "https://emmer.house.gov/: {'/media-center/press-releases'}\n",
      "https://eshoo.house.gov/: {'/category/press-releases/'}\n",
      "https://estes.house.gov/: {'/news/documentquery.aspx?DocumentTypeID=27'}\n",
      "https://garretgraves.house.gov/: {'/media-center/press-releases'}\n",
      "https://olson.house.gov/: {'/media-center/press-releases/archive/2018', '/media-center/press-releases/archive/2014', '/media-center/press-releases/archive/2013', '/media-center/press-releases', '/media-center/press-releases/archive/2015', '/media-center/press-releases/archive/2017', '/media-center/press-releases/archive/2016', '/media-center/press-releases/archive/2011', '/media-center/press-releases/archive/2010', '/media-center/press-releases/archive/2009', '/media-center/press-releases/archive/2012', '/media-center/press-releases/archive/2019'}\n",
      "https://perry.house.gov/: set()\n",
      "https://defazio.house.gov/: {'/media-center/press-releases'}\n",
      "https://delgado.house.gov: {'/media/press-releases'}\n",
      "https://byrne.house.gov/: {'/media-center/press-releases'}\n",
      "https://sensenbrenner.house.gov: {'/press-releases-statements'}\n",
      "https://mooney.house.gov/: {'/media-center/press-releases'}\n",
      "https://garamendi.house.gov/: {'/media/press-releases'}\n",
      "https://fleischmann.house.gov/: {'/media/press-releases'}\n",
      "https://grothman.house.gov: {'/news/documentquery.aspx?DocumentTypeID=27'}\n",
      "https://sherrill.house.gov/: {'/media/press-releases'}\n",
      "https://finkenauer.house.gov/: {'/media/press-releases'}\n",
      "https://stewart.house.gov: {'/media-center/press-releases'}\n",
      "https://cartwright.house.gov: {'/media-center/press-releases'}\n",
      "https://roybal-allard.house.gov: {'#tab2', '/news/documentquery.aspx?DocumentTypeID=1465'}\n",
      "https://mucarsel-powell.house.gov: {'/news/documentquery.aspx?DocumentTypeID=27'}\n",
      "https://wenstrup.house.gov: {'/news/documentquery.aspx?DocumentTypeID=2491'}\n",
      "https://bustos.house.gov: {'https://bustos.house.gov/category/press-release/'}\n",
      "https://plaskett.house.gov/: {'/news/documentquery.aspx?documenttypeid=27'}\n",
      "https://cleaver.house.gov: {'/media-center/press-releases'}\n",
      "https://courtney.house.gov/: {'/media-center/press-releases'}\n",
      "https://bost.house.gov/: {'/media-center/press-releases'}\n",
      "https://buck.house.gov/: {'/media-center/press-releases'}\n",
      "https://carter.house.gov/: {'/press-releases/'}\n",
      "https://aderholt.house.gov/: {'/media-center/press-releases'}\n",
      "https://zeldin.house.gov/: {'/media-center/press-releases'}\n",
      "https://tomgraves.house.gov/: {'/News/DocumentQuery.aspx?DocumentTypeID=2000'}\n",
      "https://bacon.house.gov: {'/media/press-releases'}\n",
      "https://harder.house.gov/: {'/media/press-releases'}\n",
      "https://murphy.house.gov: {'/news/documentquery.aspx?DocumentTypeID=27'}\n",
      "https://davids.house.gov/: {'/media/press-releases'}\n",
      "https://beyer.house.gov: {'/news/documentquery.aspx?DocumentTypeID=27'}\n",
      "https://horn.house.gov/: {'/media/press-releases'}\n",
      "https://mullin.house.gov: {'/news/documentquery.aspx?DocumentTypeID=27'}\n",
      "https://rubengallego.house.gov/: {'/media-center/press-releases'}\n",
      "https://mikethompson.house.gov/: {'/newsroom/press-releases', '/frontpage?qt-home_page_tabs=1#qt-home_page_tabs'}\n",
      "https://francisrooney.house.gov: {'/news/documentquery.aspx?DocumentTypeID=27'}\n",
      "https://steube.house.gov/: {'/media/press-releases'}\n",
      "https://jasonsmith.house.gov: set()\n",
      "https://kaygranger.house.gov: {'/media/press-releases'}\n",
      "https://rouda.house.gov: {'/media/press-releases'}\n",
      "https://casten.house.gov: {'/media/press-releases'}\n",
      "https://womack.house.gov/: {'/News/DocumentQuery.aspx?DocumentTypeID=2067'}\n",
      "https://roy.house.gov: {'/media/press-releases'}\n",
      "https://sannicolas.house.gov: {'/media/press-releases'}\n",
      "https://trentkelly.house.gov/: {'/news/documentquery.aspx?DocumentTypeID=27'}\n",
      "https://kevinbrady.house.gov/: {'/news/documentquery.aspx?DocumentTypeID=2657'}\n",
      "https://curtis.house.gov/: {'https://curtis.house.gov/category/press-releases/'}\n",
      "https://seanmaloney.house.gov: set()\n",
      "https://pappas.house.gov: {'/media/press-releases'}\n",
      "https://shalala.house.gov/: set()\n",
      "https://houlahan.house.gov/: {'/news/documentquery.aspx?DocumentTypeID=27'}\n",
      "https://doyle.house.gov: {'/press-releases'}\n",
      "https://mcmorris.house.gov/: set()\n",
      "https://peteking.house.gov: set()\n",
      "https://ocasio-cortez.house.gov/: set()\n",
      "https://juliabrownley.house.gov: {'https://juliabrownley.house.gov/category/press-releases/'}\n",
      "https://fletcher.house.gov: set()\n",
      "https://foxx.house.gov/: {'/news/documentquery.aspx?DocumentTypeID=2367'}\n",
      "https://brindisi.house.gov: {'/media/press-releases'}\n",
      "https://amash.house.gov/: {'/media/press-releases'}\n",
      "https://thompson.house.gov: {'/media-center/press-releases'}\n",
      "https://katko.house.gov/: {'/media-center/press-releases'}\n",
      "https://vela.house.gov: {'/press-releases'}\n",
      "https://huizenga.house.gov/: {'/News/DocumentQuery.aspx?DocumentTypeID=2041'}\n",
      "https://cook.house.gov: {'/media-center/press-releases'}\n",
      "https://veasey.house.gov: {'/media-center/press-releases'}\n",
      "https://blumenauer.house.gov/: {'/media-center/press-releases'}\n",
      "https://keating.house.gov/: set()\n",
      "https://comer.house.gov/: {'/media/press-releases'}\n",
      "https://posey.house.gov/: {'/News/DocumentQuery.aspx?DocumentTypeID=1487', '#tab-2'}\n",
      "https://holding.house.gov: set()\n",
      "https://beatty.house.gov: {'/media-center/press-releases'}\n",
      "https://schrader.house.gov/: {'/news/documentquery.aspx?DocumentTypeID=2382'}\n",
      "https://ratcliffe.house.gov/: {'/news/documentquery.aspx?DocumentTypeID=27'}\n",
      "https://guthrie.house.gov/: set()\n",
      "https://austinscott.house.gov/: {'/press-releases'}\n",
      "https://balderson.house.gov: {'/news/documentquery.aspx?DocumentTypeID=27'}\n",
      "https://lawson.house.gov: {'/media/press-releases'}\n",
      "https://costa.house.gov/: {'/media-center/press-releases'}\n",
      "https://westerman.house.gov/: {'/media-center/press-releases'}\n",
      "https://matsui.house.gov: {'/news/documentquery.aspx?DocumentTypeID=27'}\n",
      "https://loudermilk.house.gov: {'/news/documentquery.aspx?DocumentTypeID=27'}\n",
      "https://radewagen.house.gov/: {'/media-center/press-releases'}\n",
      "https://maloney.house.gov/: {'/news/press-releases'}\n",
      "https://sires.house.gov: {'/media-center/press-releases'}\n",
      "https://cardenas.house.gov: {'/media-center/press-releases'}\n",
      "https://connolly.house.gov/: set()\n",
      "https://maxrose.house.gov/: set()\n",
      "https://napolitano.house.gov/: {'/media/press-releases'}\n",
      "https://watkins.house.gov/: {'/media/press-releases'}\n",
      "https://espaillat.house.gov: {'/media/press-releases'}\n",
      "https://palmer.house.gov/: {'/media-center/press-releases', 'https://palmer.house.gov/media-center/press-releases'}\n",
      "https://richmond.house.gov/: {'/media-center/press-releases'}\n",
      "https://schneider.house.gov: {'/media/press-releases'}\n",
      "https://mikelevin.house.gov: {'/media/press-releases'}\n",
      "https://bera.house.gov: {'/media-center/press-releases'}\n",
      "https://hayes.house.gov: {'/media/press-releases'}\n",
      "https://lindasanchez.house.gov/: {'/media-center/press-releases'}\n",
      "https://hollingsworth.house.gov: set()\n",
      "https://cicilline.house.gov/: {'/press-releases'}\n"
     ]
    },
    {
     "name": "stdout",
     "output_type": "stream",
     "text": [
      "https://aguilar.house.gov/: {'/media-center/press-releases'}\n",
      "https://case.house.gov/: {'/media/press-releases'}\n",
      "https://watsoncoleman.house.gov/: {'/news/documentquery.aspx?DocumentTypeID=27'}\n",
      "https://delauro.house.gov/: {'/media-center/press-releases'}\n",
      "https://allred.house.gov/: {'/media/press-releases'}\n",
      "https://stauber.house.gov: {'/media/press-releases'}\n",
      "https://torres.house.gov/: {'/media-center/press-releases'}\n",
      "https://algreen.house.gov: {'/press-releases'}\n",
      "https://panetta.house.gov: {'/media/press-releases'}\n",
      "https://andylevin.house.gov/: {'/media/press-releases'}\n",
      "https://pingree.house.gov/: set()\n",
      "https://engel.house.gov: set()\n",
      "https://biggs.house.gov: {'/media/press-releases'}\n",
      "https://mccollum.house.gov: {'/media/press-releases'}\n",
      "https://swalwell.house.gov: {'/media-center/press-releases'}\n",
      "https://schakowsky.house.gov: {'/press-releases/'}\n",
      "https://gohmert.house.gov/: {'/News/DocumentQuery.aspx?DocumentTypeID=1954'}\n",
      "https://stanton.house.gov/: {'/media/press-releases'}\n",
      "https://cunningham.house.gov/: {'/media/press-releases'}\n",
      "https://schrier.house.gov: {'/media/press-releases'}\n",
      "https://neguse.house.gov/: {'/media/press-releases'}\n",
      "https://mckinley.house.gov/: {'/news/documentquery.aspx?DocumentTypeID=27'}\n",
      "https://crenshaw.house.gov/: {'/news/documentquery.aspx?DocumentTypeID=27'}\n",
      "https://chu.house.gov/: {'/media-center/press-releases'}\n",
      "https://desjarlais.house.gov/: set()\n",
      "https://guest.house.gov: {'/media/press-releases'}\n",
      "https://hill.house.gov/: {'/news/documentquery.aspx?DocumentTypeID=27'}\n",
      "https://lowenthal.house.gov: set()\n",
      "https://stefanik.house.gov/: {'/media-center/press-releases'}\n",
      "https://lofgren.house.gov/: {'/media/press-releases'}\n",
      "https://williams.house.gov: {'/media-center/press-releases'}\n",
      "https://mcadams.house.gov/: {'/media/press-releases'}\n",
      "https://lesko.house.gov: {'/news/documentquery.aspx?DocumentTypeID=27'}\n",
      "https://quigley.house.gov/: {'/media-center/press-releases'}\n",
      "https://vantaylor.house.gov/: set()\n",
      "https://raskin.house.gov: {'/media/press-releases'}\n",
      "https://lucas.house.gov: {'/press-releases'}\n",
      "https://kilmer.house.gov: {'https://kilmer.house.gov/news/press-releases'}\n",
      "https://banks.house.gov: {'/news/documentquery.aspx?DocumentTypeID=27'}\n",
      "https://flores.house.gov/: {'/news/documentquery.aspx?DocumentTypeID=2467'}\n",
      "https://hudson.house.gov: {'/press-releases/'}\n",
      "https://welch.house.gov/: {'/media-center/press-releases'}\n",
      "https://meng.house.gov: {'/media-center/press-releases'}\n",
      "https://kathleenrice.house.gov: {'/news/documentquery.aspx?DocumentTypeID=27'}\n",
      "https://wild.house.gov: {'/media/press-releases'}\n",
      "https://kirkpatrick.house.gov/: set()\n",
      "https://herrerabeutler.house.gov/: {'/News/DocumentQuery.aspx?DocumentTypeID=2113'}\n",
      "https://latta.house.gov/: {'/News/DocumentQuery.aspx?DocumentTypeID=1456'}\n",
      "https://dunn.house.gov: {'/press-releases'}\n",
      "https://bonamici.house.gov: {'/media/press-releases'}\n",
      "https://trahan.house.gov: set()\n",
      "https://velazquez.house.gov: {'/media-center/press-releases'}\n",
      "https://jordan.house.gov/: {'/News/DocumentQuery.aspx?DocumentTypeID=1611'}\n",
      "https://waters.house.gov: {'/media-center/press-releases'}\n",
      "https://cummings.house.gov: {'/media-center/press-releases'}\n",
      "https://norcross.house.gov: set()\n",
      "https://wexton.house.gov/: {'/media/press-releases'}\n",
      "https://castor.house.gov/: {'/News/DocumentQuery.aspx?DocumentTypeID=821'}\n",
      "https://gosar.house.gov/: {'/news/documentquery.aspx?DocumentTypeID=27'}\n",
      "https://gregmurphy.house.gov: {'/media/press-releases'}\n",
      "https://lahood.house.gov/: set()\n",
      "https://roe.house.gov/: {'/News/DocumentQuery.aspx?DocumentTypeID=1532'}\n",
      "https://bishop.house.gov/: {'/media-center/press-releases'}\n",
      "https://degette.house.gov: {'/media-center/press-releases'}\n",
      "https://thornberry.house.gov: {'/News/DocumentQuery.aspx?DocumentTypeID=1776'}\n",
      "https://gwenmoore.house.gov: {'/news/documentquery.aspx?DocumentTypeID=27'}\n",
      "https://morelle.house.gov: {'/media/press-releases'}\n",
      "https://clayhiggins.house.gov: {'/media/press-releases'}\n",
      "https://pallone.house.gov: {'/media/press-releases'}\n",
      "https://davidscott.house.gov/: {'/News/DocumentQuery.aspx?DocumentTypeID=377'}\n",
      "https://sherman.house.gov: {'/media-center/press-releases', '/media-center'}\n",
      "https://mceachin.house.gov: {'/media/press-releases'}\n",
      "https://rush.house.gov: {'/media-center/press-releases'}\n",
      "https://evans.house.gov/: {'/media-center/press-releases'}\n",
      "https://reschenthaler.house.gov/: {'/media/press-releases'}\n",
      "https://johnlewis.house.gov: {'/media-center/press-releases'}\n",
      "https://chabot.house.gov/: {'/news/documentquery.aspx?DocumentTypeID=2508'}\n",
      "https://danbishop.house.gov: {'/media/press-releases'}\n",
      "https://larsen.house.gov: {'/press-releases'}\n",
      "https://haaland.house.gov/: {'/media/press-releases'}\n",
      "https://amodei.house.gov: set()\n",
      "https://takano.house.gov: {'//takano.house.gov/newsroom/press-releases'}\n",
      "https://jacksonlee.house.gov/: {'/media-center/press-releases'}\n",
      "https://morgangriffith.house.gov/: {'/News/DocumentQuery.aspx?DocumentTypeID=2235'}\n",
      "https://phillips.house.gov/: {'/media/press-releases'}\n",
      "https://lieu.house.gov/: {'/media-center/press-releases'}\n",
      "https://vargas.house.gov: {'/media-center/press-releases'}\n",
      "https://fudge.house.gov/: set()\n",
      "https://cheney.house.gov: {'https://cheney.house.gov/category/press_release/'}\n",
      "https://moolenaar.house.gov/: {'/media-center/press-releases'}\n",
      "https://visclosky.house.gov/: {'/media-center/press-releases', '/media-center/latest-news'}\n",
      "https://kennedy.house.gov: {'https://kennedy.house.gov/newsroom/press-releases'}\n",
      "https://conaway.house.gov/: set()\n",
      "https://allen.house.gov: {'/news/documentquery.aspx?DocumentTypeID=27'}\n",
      "https://krishnamoorthi.house.gov: {'/media/press-releases'}\n",
      "https://debbiedingell.house.gov/: {'/news/', '/news/documentquery.aspx?DocumentTypeID=27'}\n",
      "https://boyle.house.gov/: {'/media-center/press-releases'}\n",
      "https://barr.house.gov/: {'/press-releases'}\n",
      "https://alceehastings.house.gov/: {'/news/documentquery.aspx?DocumentTypeID=2397'}\n",
      "https://billjohnson.house.gov/: {'/News/DocumentQuery.aspx?DocumentTypeID=2085'}\n",
      "https://cuellar.house.gov/: {'/News/DocumentQuery.aspx?DocumentTypeID=1232'}\n",
      "https://hagedorn.house.gov/: {'/media/press-releases'}\n",
      "https://bilirakis.house.gov/: {'/media/press-releases'}\n",
      "https://ferguson.house.gov: {'/news/documentquery.aspx?DocumentTypeID=27'}\n",
      "https://tonko.house.gov/: {'/news/documentquery.aspx?DocumentTypeID=27'}\n",
      "https://brooks.house.gov/: set()\n",
      "https://mast.house.gov: {'/press-releases'}\n",
      "https://ohalleran.house.gov: {'/media/press-releases'}\n",
      "https://budd.house.gov: {'/news/documentquery.aspx?DocumentTypeID=27'}\n",
      "https://simpson.house.gov: {'/News/DocumentQuery.aspx?DocumentTypeID=1515'}\n",
      "https://malinowski.house.gov/: {'/media/press-releases'}\n",
      "https://hankjohnson.house.gov/: {'/media-center/press-releases'}\n",
      "https://scottpeters.house.gov: {'/media-center/press-releases'}\n",
      "https://marshall.house.gov: {'/media/press-releases'}\n",
      "https://dankildee.house.gov: {'/media/press-releases'}\n",
      "https://loebsack.house.gov/: {'/News/DocumentQuery.aspx?DocumentTypeID=893'}\n",
      "https://davidson.house.gov/: {'/media-center/press-releases'}\n",
      "https://upton.house.gov: {'/News/DocumentQuery.aspx?DocumentTypeID=1828'}\n",
      "https://halrogers.house.gov/: {'/press-releases'}\n",
      "https://joewilson.house.gov/: {'/media-center/press-releases'}\n",
      "https://sylviagarcia.house.gov/: {'/media/press-releases'}\n",
      "https://himes.house.gov/: set()\n",
      "https://cloud.house.gov: set()\n",
      "https://katiehill.house.gov: {'/media/press-releases'}\n",
      "https://axne.house.gov/: {'/media/press-releases'}\n",
      "https://mchenry.house.gov: {'/news/documentquery.aspx?DocumentTypeID=418', '/newsroom/documentquery.aspx?DocumentTypeID=418', '#tab2'}\n",
      "https://mcnerney.house.gov/: {'/media-center/press-releases'}\n",
      "https://meadows.house.gov/: {'/news/documentquery.aspx?DocumentTypeID=27'}\n",
      "https://benniethompson.house.gov/: {'/media/press-releases'}\n",
      "https://pence.house.gov/: {'/media/press-releases'}\n",
      "https://trone.house.gov: {'/media/press-releases'}\n",
      "https://long.house.gov/: {'/news/documentquery.aspx?DocumentTypeID=27'}\n",
      "https://waltz.house.gov: {'/media/press-releases'}\n",
      "https://khanna.house.gov: {'/media/press-releases'}\n",
      "https://kind.house.gov/: {'/media-center/press-releases'}\n",
      "https://mikerogers.house.gov/: {'/news/documentquery.aspx?DocumentTypeID=27'}\n",
      "https://wright.house.gov/: {'/media/press-releases'}\n"
     ]
    },
    {
     "name": "stdout",
     "output_type": "stream",
     "text": [
      "https://babin.house.gov: {'/news/documentquery.aspx?DocumentTypeID=27'}\n",
      "https://torressmall.house.gov/: {'/media/press-releases'}\n",
      "https://soto.house.gov: {'/media/press-releases'}\n",
      "https://robbishop.house.gov: {'/media/press-releases'}\n",
      "https://timmons.house.gov/: {'/media/press-releases'}\n",
      "https://gonzalez.house.gov: {'/media/press-releases'}\n",
      "https://dennyheck.house.gov: {'/media-center/press-releases'}\n",
      "https://titus.house.gov/: set()\n",
      "https://huffman.house.gov: set()\n",
      "https://steil.house.gov: {'/media/press-releases'}\n",
      "https://crawford.house.gov/: {'/News/DocumentQuery.aspx?DocumentTypeID=2080'}\n",
      "https://delbene.house.gov: {'/news/documentquery.aspx?DocumentTypeID=27'}\n",
      "https://mcgovern.house.gov/: {'/news/documentquery.aspx?DocumentTypeID=2472'}\n",
      "https://suozzi.house.gov: {'/media/press-releases'}\n",
      "https://smucker.house.gov/: {'/media/press-releases'}\n",
      "https://luria.house.gov: {'/media/press-releases'}\n",
      "https://johnrose.house.gov/: {'/media/press-releases'}\n",
      "https://cohen.house.gov/: {'/media-center/press-releases'}\n",
      "https://palazzo.house.gov/: {'/News/DocumentQuery.aspx?DocumentTypeID=2519'}\n",
      "https://cole.house.gov: {'/media-center/press-releases'}\n",
      "https://yarmuth.house.gov/: set()\n",
      "https://susielee.house.gov: {'/media/press-releases'}\n",
      "https://kim.house.gov/: {'/media/press-releases'}\n",
      "https://rutherford.house.gov: {'/media/press-releases'}\n",
      "https://moulton.house.gov/: {'https://moulton.house.gov/category/news-stories/press-releases/'}\n",
      "https://hurd.house.gov/: {'/media-center/press-releases'}\n",
      "https://grijalva.house.gov/: {'/press-releases/'}\n",
      "https://lujan.house.gov/: {'https://lujan.house.gov/media-center/press-releases'}\n",
      "https://kustoff.house.gov: {'/media/press-releases'}\n",
      "https://harris.house.gov/: {'/media/press-releases'}\n",
      "https://kinzinger.house.gov/: {'/news/documentquery.aspx?DocumentTypeID=2665'}\n",
      "https://hern.house.gov: {'/news/documentquery.aspx?DocumentTypeID=27'}\n",
      "https://price.house.gov/: {'/newsroom/press-releases'}\n",
      "https://timryan.house.gov/: {'/media/press-releases'}\n",
      "https://yoho.house.gov: {'/media-center/press-releases'}\n",
      "https://hartzler.house.gov/: {'/media-center/press-releases'}\n",
      "https://golden.house.gov: {'/media/press-releases'}\n",
      "https://gallagher.house.gov: {'/media/press-releases'}\n",
      "https://graves.house.gov/: {'/media-center?media_type=congress_press_release'}\n",
      "https://underwood.house.gov/: {'/media/press-releases'}\n",
      "https://rodneydavis.house.gov: {'#tab1', '/news/documentquery.aspx?DocumentTypeID=2427'}\n",
      "https://wittman.house.gov/: {'/news/documentquery.aspx?DocumentTypeID=2670'}\n",
      "https://burgess.house.gov/: {'/News/DocumentQuery.aspx?DocumentTypeID=75'}\n",
      "https://tlaib.house.gov/: {'/media/press-releases'}\n",
      "https://pressley.house.gov: {'/media/press-releases'}\n",
      "https://higgins.house.gov: {'/media-center/press-releases', '/press-releases/archived-press-releases-2008'}\n",
      "https://miller.house.gov/: {'/media/press-releases'}\n",
      "https://rouzer.house.gov/: {'/press-releases'}\n",
      "https://norman.house.gov: set()\n",
      "https://sewell.house.gov/: {'/media-center/press-releases', '/frontpage?qt-home_page_tabs=0#qt-home_page_tabs'}\n",
      "https://lynch.house.gov/: {'/press-releases'}\n",
      "https://bobbyscott.house.gov: {'/media-center/press-releases'}\n",
      "https://perlmutter.house.gov/: {'/news/documentquery.aspx?DocumentTypeID=27'}\n",
      "https://anthonybrown.house.gov: {'/news/documentsingle.aspx?DocumentID=651', '/news/documentsingle.aspx?DocumentID=648', '/news/documentquery.aspx?DocumentTypeID=27'}\n",
      "https://marchant.house.gov: set()\n",
      "https://carson.house.gov/: {'/newsroom/press-releases'}\n",
      "https://hunter.house.gov/: {'/press-releases'}\n",
      "https://meuser.house.gov: {'/media/press-releases'}\n",
      "https://hice.house.gov/: {'/news/documentquery.aspx?DocumentTypeID=27'}\n",
      "https://gonzalez-colon.house.gov: {'/media/press-releases'}\n",
      "https://walorski.house.gov: set()\n",
      "https://lee.house.gov/: set()\n",
      "https://mariodiazbalart.house.gov/: {'/media-center/press-releases'}\n",
      "https://gaetz.house.gov: {'/media/press-releases'}\n",
      "https://massie.house.gov: {'/newsroom/press-releases'}\n",
      "https://clarke.house.gov/: {'https://clarke.house.gov/category/press-releases/'}\n",
      "https://gottheimer.house.gov: {'/news/documentquery.aspx?DocumentTypeID=27'}\n",
      "https://craig.house.gov: {'/media/press-releases'}\n",
      "https://cisneros.house.gov/: {'/media/press-releases'}\n",
      "https://fulcher.house.gov/: {'/press-releases'}\n",
      "https://adriansmith.house.gov/: {'/newsroom/press-releases'}\n",
      "https://shimkus.house.gov/: {'/media-center/press-releases'}\n",
      "https://teddeutch.house.gov/: set()\n",
      "https://bucshon.house.gov/: {'/news/documentquery.aspx?DocumentTypeID=27'}\n",
      "https://gooden.house.gov: {'/media/press-releases'}\n",
      "https://calvert.house.gov/: {'/media/press-releases'}\n",
      "https://mcbath.house.gov: {'/press-releases'}\n",
      "https://neal.house.gov/: {'/press-releases'}\n",
      "https://meeks.house.gov: {'/media/press-releases'}\n",
      "https://steveking.house.gov/: {'/media-center/press-releases'}\n",
      "https://chuygarcia.house.gov/: {'/media/press-releases'}\n",
      "https://mitchell.house.gov: {'/media/press-releases'}\n",
      "https://pascrell.house.gov/: {'/news/documentquery.aspx?DocumentTypeID=27'}\n",
      "https://cline.house.gov: {'/media/press-releases'}\n",
      "https://cox.house.gov: {'/media/press-releases'}\n",
      "https://larson.house.gov/: {'/media-center/press-releases'}\n",
      "https://chrissmith.house.gov/: set()\n",
      "https://lamb.house.gov: {'/media/press-releases'}\n",
      "https://wassermanschultz.house.gov/: {'/news/documentquery.aspx?DocumentTypeID=27'}\n",
      "https://butterfield.house.gov: {'/media-center/press-releases'}\n",
      "https://reed.house.gov/: {'/news/documentquery.aspx?DocumentTypeID=27'}\n",
      "https://robinkelly.house.gov/: {'/media-center/press-releases'}\n",
      "https://demings.house.gov: {'/media/press-releases'}\n",
      "https://donyoung.house.gov/: {'/News/'}\n",
      "https://crist.house.gov: {'/news/documentquery.aspx?DocumentTypeID=27'}\n",
      "https://adamsmith.house.gov/: {'/press-releases', '#recentposts-pressreleases'}\n",
      "https://fortenberry.house.gov/: {'/media-center/press-releases'}\n",
      "https://desaulnier.house.gov/: {'/media-center/press-releases'}\n",
      "https://buchanan.house.gov/: set()\n",
      "https://kuster.house.gov: {'/media-center/press-releases'}\n",
      "https://stivers.house.gov/: {'/News/DocumentQuery.aspx?DocumentTypeID=2054'}\n",
      "https://scalise.house.gov/: {'/media/press-releases'}\n",
      "https://mikejohnson.house.gov: {'/media/press-releases'}\n",
      "https://barragan.house.gov: {'https://barragan.house.gov/category/press-releases/'}\n",
      "https://serrano.house.gov/: {'/media-center/press-releases', '/frontpage?qt-home_page_tabs=0#qt-home_page_tabs'}\n",
      "https://scanlon.house.gov/: {'/media/press-releases'}\n",
      "https://castro.house.gov: {'/media-center/press-releases'}\n",
      "https://dougcollins.house.gov: set()\n",
      "https://wagner.house.gov: {'/media-center/press-releases'}\n",
      "https://walker.house.gov/: {'/media-center/press-releases'}\n",
      "https://schiff.house.gov/: {'https://schiff.house.gov/news/press-releases'}\n",
      "https://weber.house.gov: {'/news/documentquery.aspx?DocumentTypeID=27'}\n",
      "https://sarbanes.house.gov/: {'/media-center/press-releases'}\n",
      "https://collinpeterson.house.gov: {'/media/press-releases'}\n",
      "https://vandrew.house.gov: {'/media/press-releases', '/contact/newsletter'}\n",
      "https://armstrong.house.gov: {'/media/press-releases'}\n",
      "https://langevin.house.gov: {'/press-releases'}\n",
      "https://lowey.house.gov: {'/media-center/press-releases'}\n",
      "https://mcclintock.house.gov/: {'/newsroom/press-releases'}\n",
      "https://kaptur.house.gov/: {'/media-center/press-releases'}\n",
      "https://abraham.house.gov/: {'/media-center/press-releases'}\n",
      "https://adams.house.gov: {'/media-center/press-releases'}\n",
      "https://baird.house.gov/: {'/media/press-releases'}\n",
      "https://davis.house.gov: {'/press-releases/'}\n",
      "https://clyburn.house.gov/: {'/press-releases'}\n",
      "https://horsford.house.gov: {'/media/press-releases'}\n",
      "https://ruppersberger.house.gov: {'/news-room/press-releases'}\n",
      "https://markgreen.house.gov/: {'/news/documentquery.aspx?DocumentTypeID=27'}\n",
      "https://lamalfa.house.gov: {'/media-center/press-releases'}\n",
      "https://spano.house.gov/: {'/news/documentquery.aspx?DocumentTypeID=27'}\n",
      "https://keller.house.gov: {'/media/press-releases'}\n",
      "https://burchett.house.gov: {'/media/press-releases'}\n",
      "https://sablan.house.gov/: set()\n",
      "https://gianforte.house.gov: {'/media-center/press-releases'}\n",
      "https://lamborn.house.gov/: {'/media/press-releases'}\n",
      "https://frankel.house.gov: {'/news/documentquery.aspx?DocumentTypeID=27'}\n"
     ]
    },
    {
     "name": "stdout",
     "output_type": "stream",
     "text": [
      "https://dustyjohnson.house.gov/: {'/media/press-releases'}\n",
      "https://mccaul.house.gov: {'/media-center/press-releases', '/frontpage?qt-home_page_tabs=1#qt-home_page_tabs'}\n",
      "https://riggleman.house.gov: {'/media/press-releases'}\n",
      "https://crow.house.gov/: {'/media/press-releases'}\n",
      "https://lawrence.house.gov/: {'/media-center/press-releases'}\n",
      "https://jeffduncan.house.gov/: {'/media/press-releases'}\n",
      "https://stevens.house.gov/: {'/media/press-releases'}\n",
      "https://walberg.house.gov/: {'/media/press-releases'}\n",
      "https://pelosi.house.gov/: {'/news/press-releases'}\n",
      "https://turner.house.gov/: {'/media-center/press-releases', '/frontpage?qt-home_page_tabs=0#qt-home_page_tabs'}\n",
      "https://spanberger.house.gov: {'/news/documentquery.aspx?DocumentTypeID=27'}\n",
      "https://buddycarter.house.gov/: {'/news/documentquery.aspx?DocumentTypeID=27'}\n",
      "https://foster.house.gov: {'/media/press-releases'}\n",
      "https://woodall.house.gov/: {'/media-center/press-releases'}\n",
      "https://porter.house.gov/: {'/media/press-releases'}\n",
      "https://speier.house.gov/: {'/media-center/press-releases'}\n",
      "https://kevinmccarthy.house.gov/: {'/media-center/press-releases'}\n",
      "https://walden.house.gov/: {'/media-center/press-releases'}\n",
      "https://dean.house.gov: set()\n",
      "https://ruiz.house.gov: {'/media-center/press-releases'}\n",
      "https://rice.house.gov: {'/press-releases'}\n",
      "https://carbajal.house.gov: {'/news/documentquery.aspx?DocumentTypeID=27'}\n",
      "https://norton.house.gov/: {'/media-center/press-releases'}\n",
      "https://susandavis.house.gov/: {'/news/documentquery.aspx?DocumentTypeID=1782'}\n",
      "https://omar.house.gov/: {'/media/press-releases'}\n",
      "https://cooper.house.gov/: {'/media-center/press-releases'}\n",
      "https://schweikert.house.gov/: {'/media-center/press-releases'}\n",
      "https://nadler.house.gov: {'/news/documentquery.aspx?DocumentTypeID=1753'}\n",
      "https://doggett.house.gov: set()\n",
      "https://anthonygonzalez.house.gov: {'/news/documentquery.aspx?DocumentTypeID=27'}\n",
      "https://gabbard.house.gov: {'/news/press-releases'}\n",
      "https://joyce.house.gov: {'/press-releases/'}\n",
      "https://newhouse.house.gov: {'/media-center/press-releases'}\n",
      "https://fitzpatrick.house.gov/: {'/media-center/press-releases'}\n",
      "https://pocan.house.gov: {'/media-center/press-releases'}\n",
      "https://slotkin.house.gov/: {'/media/press-releases'}\n"
     ]
    }
   ],
   "source": [
    "from typing import Dict, Set\n",
    "\n",
    "press_releases: Dict[str, Set[str]] = {}\n",
    "\n",
    "for house_url in good_urls:\n",
    "    html = requests.get(house_url).text\n",
    "    soup = BeautifulSoup(html, 'html5lib')\n",
    "    pr_links = {a['href'] for a in soup('a') if 'press releases' in a.text.lower()}\n",
    "    print(f\"{house_url}: {pr_links}\")\n",
    "    press_releases[house_url] = pr_links"
   ]
  },
  {
   "cell_type": "code",
   "execution_count": 23,
   "metadata": {},
   "outputs": [],
   "source": [
    "def paragraph_mentions(text: str, keyword: str) -> bool:\n",
    "    \"\"\"Returns True if a <p> inside the text mentions {keyword}\"\"\"\n",
    "    soup = BeautifulSoup(text, 'html5lib')\n",
    "    paragraphs = [p.get_text() for p in soup('p')]\n",
    "    return any(keyword.lower() in paragraph.lower()\n",
    "               for paragraph in paragraphs)"
   ]
  },
  {
   "cell_type": "code",
   "execution_count": 24,
   "metadata": {},
   "outputs": [],
   "source": [
    "text = \"\"\"<body><h1>Facebook</h1><p>Twitter</p>\"\"\"\n",
    "assert paragraph_mentions(text, \"twitter\")\n",
    "assert not paragraph_mentions(text, \"facebook\")"
   ]
  },
  {
   "cell_type": "code",
   "execution_count": null,
   "metadata": {},
   "outputs": [],
   "source": [
    "for house_url, pr_links in press_releases.items():\n",
    "    for pr_link in pr_links:\n",
    "        url = f\"{house_url}/{pr_link}\"\n",
    "        text = requests.get(url).text\n",
    "        \n",
    "        if paragraph_mentions(text, \"data\"):\n",
    "            print(f\"{house_url}\")\n",
    "            break # done with this house_url"
   ]
  },
  {
   "cell_type": "code",
   "execution_count": 2,
   "metadata": {},
   "outputs": [],
   "source": [
    "# Using APIs (application programming interfaces). \n",
    "# To explictly request data in a structured format.\n",
    "# This saves you the trouble of having to scrape them.\n",
    "import json\n",
    "\n",
    "serialized = \"\"\"{ \"title\" : \"Data Science Book\",\n",
    "                  \"author\" : \"Joel Grus\",\n",
    "                  \"publicationYear\" : 2019, \n",
    "                  \"topics\": [\"data\", \"science\", \"data science\"]}\"\"\"\n",
    "\n",
    "# parse the JSON to create a Python dict\n",
    "deserialized = json.loads(serialized)\n",
    "assert deserialized[\"publicationYear\"] == 2019\n",
    "assert \"data science\" in deserialized[\"topics\"]"
   ]
  },
  {
   "cell_type": "code",
   "execution_count": 3,
   "metadata": {},
   "outputs": [],
   "source": [
    "# Using an Unauthenticated API\n",
    "# GitHub API first\n",
    "import requests, json\n",
    "github_user = \"ibacaraujo\"\n",
    "endpoint = f\"https://api.github.com/users/{github_user}/repos\"\n",
    "\n",
    "repos = json.loads(requests.get(endpoint).text)"
   ]
  },
  {
   "cell_type": "code",
   "execution_count": 5,
   "metadata": {},
   "outputs": [],
   "source": [
    "from collections import Counter\n",
    "from dateutil.parser import parse\n",
    "\n",
    "dates = [parse(repo[\"created_at\"]) for repo in repos]\n",
    "month_counts = Counter(date.month for date in dates)\n",
    "weekday_counts = Counter(date.weekday() for date in dates)"
   ]
  },
  {
   "cell_type": "code",
   "execution_count": 6,
   "metadata": {},
   "outputs": [
    {
     "name": "stdout",
     "output_type": "stream",
     "text": [
      "Counter({7: 7, 1: 4, 10: 4, 5: 3, 9: 3, 11: 3, 12: 3, 8: 2, 3: 1})\n",
      "Counter({3: 9, 4: 7, 5: 5, 1: 4, 0: 3, 2: 2})\n"
     ]
    }
   ],
   "source": [
    "print(month_counts)\n",
    "print(weekday_counts)"
   ]
  },
  {
   "cell_type": "code",
   "execution_count": 8,
   "metadata": {},
   "outputs": [
    {
     "name": "stdout",
     "output_type": "stream",
     "text": [
      "['data-structures-and-algorithms-in-python', 'data-science-from-scratch', 'fastai-deep-learning-from-the-foundations', 'flask-microblog', 'cyclegan-seed']\n",
      "['Python', 'Jupyter Notebook', 'Jupyter Notebook', 'Python', 'Jupyter Notebook']\n"
     ]
    }
   ],
   "source": [
    "last_5_repositories = sorted(repos, key=lambda r: r[\"pushed_at\"], reverse=True)[:5]\n",
    "print([repo['name'] for repo in last_5_repositories])\n",
    "\n",
    "last_5_languages = [repo[\"language\"] for repo in last_5_repositories]\n",
    "print(last_5_languages)"
   ]
  }
 ],
 "metadata": {
  "kernelspec": {
   "display_name": "Python 3",
   "language": "python",
   "name": "python3"
  },
  "language_info": {
   "codemirror_mode": {
    "name": "ipython",
    "version": 3
   },
   "file_extension": ".py",
   "mimetype": "text/x-python",
   "name": "python",
   "nbconvert_exporter": "python",
   "pygments_lexer": "ipython3",
   "version": "3.7.3"
  }
 },
 "nbformat": 4,
 "nbformat_minor": 2
}
