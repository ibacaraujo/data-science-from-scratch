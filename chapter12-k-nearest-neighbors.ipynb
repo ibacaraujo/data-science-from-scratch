{
 "cells": [
  {
   "cell_type": "markdown",
   "metadata": {},
   "source": [
    "Nearest neighbors is one of the simplest predictive models there is. It makes no mathetical assumptions."
   ]
  },
  {
   "cell_type": "code",
   "execution_count": 1,
   "metadata": {},
   "outputs": [],
   "source": [
    "# The Model\n",
    "from typing import List\n",
    "from collections import Counter\n",
    "\n",
    "def raw_majority_vote(labels: List[str]) -> str:\n",
    "    votes = Counter(labels)\n",
    "    winner, _ = votes.most_common(1)[0] # get just the first and specifically the key\n",
    "    return winner\n",
    "\n",
    "assert raw_majority_vote(['a', 'b', 'c', 'b']) == 'b'"
   ]
  },
  {
   "cell_type": "code",
   "execution_count": 2,
   "metadata": {},
   "outputs": [],
   "source": [
    "def majority_vote(labels: List[str]) -> str:\n",
    "    \"\"\"Assumes that labels are ordered from nearest to farthest.\"\"\"\n",
    "    vote_counts = Counter(labels)\n",
    "    winner, winner_count = vote_counts.most_common(1)[0]\n",
    "    num_winners = len([count\n",
    "                       for count in vote_counts.values()\n",
    "                       if count == winner_count])\n",
    "\n",
    "    if num_winners == 1:\n",
    "        return winner                     # unique winner, so return it\n",
    "    else:\n",
    "        return majority_vote(labels[:-1]) # try again without the farthest\n",
    "\n",
    "# Tie, so look at first 4, then 'b'\n",
    "assert majority_vote(['a', 'b', 'c', 'b', 'a']) == 'b'"
   ]
  },
  {
   "cell_type": "code",
   "execution_count": 4,
   "metadata": {},
   "outputs": [],
   "source": [
    "%run chapter4-linear-algebra.ipynb"
   ]
  },
  {
   "cell_type": "code",
   "execution_count": 5,
   "metadata": {},
   "outputs": [],
   "source": [
    "from typing import NamedTuple\n",
    "\n",
    "class LabeledPoint(NamedTuple):\n",
    "    point: Vector\n",
    "    label: str\n",
    "\n",
    "def knn_classify(k: int,\n",
    "                 labeled_points: List[LabeledPoint],\n",
    "                 new_point: Vector) -> str:\n",
    "\n",
    "    # Order the labeled points from nearest to farthest.\n",
    "    by_distance = sorted(labeled_points,\n",
    "                         key=lambda lp: distance(lp.point, new_point))\n",
    "\n",
    "    # Find the labels for the k closest\n",
    "    k_nearest_labels = [lp.label for lp in by_distance[:k]]\n",
    "\n",
    "    # and let them vote.\n",
    "    return majority_vote(k_nearest_labels)"
   ]
  },
  {
   "cell_type": "code",
   "execution_count": 6,
   "metadata": {},
   "outputs": [],
   "source": [
    "import requests\n",
    "\n",
    "data = requests.get(\"https://archive.ics.uci.edu/ml/machine-learning-databases/iris/iris.data\")\n",
    "\n",
    "with open('iris.dat', 'w') as f:\n",
    "    f.write(data.text)"
   ]
  },
  {
   "cell_type": "code",
   "execution_count": null,
   "metadata": {},
   "outputs": [],
   "source": [
    "from typing import Dict\n",
    "import csv\n",
    "from collections import defaultdict\n",
    "\n",
    "def parse_iris_row(row: List[str]) -> LabeledPoint:\n",
    "        \"\"\"\n",
    "        sepal_length, sepal_width, petal_length, petal_width, class\n",
    "        \"\"\"\n",
    "        measurements = [float(value) for value in row[:-1]]\n",
    "        # class is e.g. \"Iris-virginica\"; we just want \"virginica\"\n",
    "        label = row[-1].split(\"-\")[-1]\n",
    "    \n",
    "        return LabeledPoint(measurements, label)\n",
    "    \n",
    "with open('iris.dat') as f:\n",
    "    reader = csv.reader(f)\n",
    "    iris_data = [parse_iris_row(row) for row in reader]\n",
    "    \n",
    "# We'll also group just the points by species/label so we can plot them.\n",
    "points_by_species: Dict[str, List[Vector]] = defaultdict(list)\n",
    "for iris in iris_data:\n",
    "    points_by_species[iris.label].append(iris.point)"
   ]
  },
  {
   "cell_type": "code",
   "execution_count": null,
   "metadata": {},
   "outputs": [],
   "source": [
    "from matplotlib import pyplot as plt\n",
    "    metrics = ['sepal length', 'sepal width', 'petal length', 'petal width']\n",
    "    pairs = [(i, j) for i in range(4) for j in range(4) if i < j]\n",
    "    marks = ['+', '.', 'x']  # we have 3 classes, so 3 markers\n",
    "    \n",
    "    fig, ax = plt.subplots(2, 3)\n",
    "    \n",
    "    for row in range(2):\n",
    "        for col in range(3):\n",
    "            i, j = pairs[3 * row + col]\n",
    "            ax[row][col].set_title(f\"{metrics[i]} vs {metrics[j]}\", fontsize=8)\n",
    "            ax[row][col].set_xticks([])\n",
    "            ax[row][col].set_yticks([])\n",
    "    \n",
    "            for mark, (species, points) in zip(marks, points_by_species.items()):\n",
    "                xs = [point[i] for point in points]\n",
    "                ys = [point[j] for point in points]\n",
    "                ax[row][col].scatter(xs, ys, marker=mark, label=species)\n",
    "    \n",
    "    ax[-1][-1].legend(loc='lower right', prop={'size': 6})\n",
    "    # plt.show()\n",
    "    \n",
    "    \n",
    "    \n",
    "    plt.savefig('im/iris_scatter.png')\n",
    "    plt.gca().clear()"
   ]
  },
  {
   "cell_type": "code",
   "execution_count": 18,
   "metadata": {},
   "outputs": [],
   "source": [
    "%run chapter11-machine-learning.ipynb"
   ]
  },
  {
   "cell_type": "code",
   "execution_count": null,
   "metadata": {},
   "outputs": [],
   "source": [
    "import random\n",
    "   \n",
    "random.seed(12)\n",
    "iris_train, iris_test = split_data(iris_data, 0.70)\n",
    "assert len(iris_train) == 0.7 * 150\n",
    "assert len(iris_test) == 0.3 * 150"
   ]
  },
  {
   "cell_type": "code",
   "execution_count": null,
   "metadata": {},
   "outputs": [],
   "source": [
    "from typing import Tuple\n",
    "    \n",
    "    # track how many times we see (predicted, actual)\n",
    "    confusion_matrix: Dict[Tuple[str, str], int] = defaultdict(int)\n",
    "    num_correct = 0\n",
    "    \n",
    "    for iris in iris_test:\n",
    "        predicted = knn_classify(5, iris_train, iris.point)\n",
    "        actual = iris.label\n",
    "    \n",
    "        if predicted == actual:\n",
    "            num_correct += 1\n",
    "    \n",
    "        confusion_matrix[(predicted, actual)] += 1\n",
    "    \n",
    "    pct_correct = num_correct / len(iris_test)\n",
    "    print(pct_correct, confusion_matrix)"
   ]
  },
  {
   "cell_type": "markdown",
   "metadata": {},
   "source": [
    "The Curse of Dimensionality. It boils down to the fact that high-dimensional spaces are vast. Points in high-dimensional spaces tend not to be close to one another at all."
   ]
  },
  {
   "cell_type": "code",
   "execution_count": 19,
   "metadata": {},
   "outputs": [],
   "source": [
    "def random_point(dim: int) -> Vector:\n",
    "    return [random.random() for _ in range(dim)]"
   ]
  },
  {
   "cell_type": "code",
   "execution_count": 22,
   "metadata": {},
   "outputs": [],
   "source": [
    "def random_distances(dim: int, num_pairs: int) -> List[float]:\n",
    "    return [distance(random_point(dim), random_point(dim)) for _ in range(num_pairs)]"
   ]
  },
  {
   "cell_type": "code",
   "execution_count": 23,
   "metadata": {},
   "outputs": [
    {
     "name": "stderr",
     "output_type": "stream",
     "text": [
      "Curse of Dimensionality: 100%|██████████| 100/100 [00:26<00:00,  2.17it/s]\n"
     ]
    }
   ],
   "source": [
    "import tqdm\n",
    "dimensions = range(1, 101)\n",
    "\n",
    "avg_distances = []\n",
    "min_distances = []\n",
    "\n",
    "random.seed(0)\n",
    "for dim in tqdm.tqdm(dimensions, desc=\"Curse of Dimensionality\"):\n",
    "    distances = random_distances(dim, 10000)\n",
    "    avg_distances.append(sum(distances) / 10000)\n",
    "    min_distances.append(min(distances))"
   ]
  },
  {
   "cell_type": "code",
   "execution_count": 24,
   "metadata": {},
   "outputs": [],
   "source": [
    "min_avg_ratio = [min_dist / avg_dist\n",
    "                 for min_dist, avg_dist in zip(min_distances, avg_distances)]"
   ]
  },
  {
   "cell_type": "code",
   "execution_count": 25,
   "metadata": {},
   "outputs": [
    {
     "data": {
      "text/plain": [
       "[2.4010264196729895e-05,\n",
       " 0.012375993376885747,\n",
       " 0.05866675835687187,\n",
       " 0.052702840066952916,\n",
       " 0.13806017036605744,\n",
       " 0.16706667538692488,\n",
       " 0.13946376694501153,\n",
       " 0.21627918375769406,\n",
       " 0.2584599213183403,\n",
       " 0.269306360063673,\n",
       " 0.27670626780046326,\n",
       " 0.3706318741676572,\n",
       " 0.26499940923263887,\n",
       " 0.3552552587706282,\n",
       " 0.3474871534632107,\n",
       " 0.42834610882474056,\n",
       " 0.42466657369159216,\n",
       " 0.4446491710023277,\n",
       " 0.535207240511332,\n",
       " 0.34176993540037365,\n",
       " 0.5388246061126235,\n",
       " 0.5058621513898754,\n",
       " 0.5347436432023157,\n",
       " 0.5444461514254334,\n",
       " 0.47597755191184377,\n",
       " 0.4905464153431202,\n",
       " 0.5867979218606769,\n",
       " 0.5123632294260677,\n",
       " 0.5424819954205379,\n",
       " 0.5742090130686824,\n",
       " 0.5897087379993046,\n",
       " 0.5775736849502905,\n",
       " 0.5673715611211803,\n",
       " 0.5449292858365001,\n",
       " 0.5796885476098184,\n",
       " 0.6480053723471617,\n",
       " 0.6602812580026879,\n",
       " 0.6289471963191565,\n",
       " 0.6418344464162202,\n",
       " 0.6158132408201428,\n",
       " 0.6091619742363008,\n",
       " 0.664640030446849,\n",
       " 0.6564359615197871,\n",
       " 0.6539490799106948,\n",
       " 0.6429102073843518,\n",
       " 0.64757033619389,\n",
       " 0.6497423009935857,\n",
       " 0.6922096494805685,\n",
       " 0.6654622352030737,\n",
       " 0.6841615012950715,\n",
       " 0.6805715011946835,\n",
       " 0.6763645006707869,\n",
       " 0.6173723985281541,\n",
       " 0.7176032767331746,\n",
       " 0.6979759146573928,\n",
       " 0.6892249324613505,\n",
       " 0.7032008257759207,\n",
       " 0.7125069334846613,\n",
       " 0.6993681100595657,\n",
       " 0.7052481142485983,\n",
       " 0.6996150905946833,\n",
       " 0.7284265042700763,\n",
       " 0.7097894203833652,\n",
       " 0.633547773482255,\n",
       " 0.7266742553117559,\n",
       " 0.6850962938781573,\n",
       " 0.7021058776025672,\n",
       " 0.7337448703941295,\n",
       " 0.7023953092732939,\n",
       " 0.7400337279265842,\n",
       " 0.7223413747648559,\n",
       " 0.7325715996069667,\n",
       " 0.7229944167039344,\n",
       " 0.741064830994298,\n",
       " 0.6709960935665151,\n",
       " 0.7030740125822046,\n",
       " 0.7545017650234418,\n",
       " 0.7233302367790145,\n",
       " 0.7313662376277709,\n",
       " 0.7586188883283429,\n",
       " 0.6861838638270648,\n",
       " 0.7681673955812997,\n",
       " 0.7467136457037874,\n",
       " 0.7349458527615983,\n",
       " 0.7591750046271778,\n",
       " 0.789165465082094,\n",
       " 0.7634323982682764,\n",
       " 0.7813982097201326,\n",
       " 0.7779074088857534,\n",
       " 0.7722421901595525,\n",
       " 0.7692880285123773,\n",
       " 0.7157941308141306,\n",
       " 0.7399366447494983,\n",
       " 0.7476672754962702,\n",
       " 0.775445724732948,\n",
       " 0.7655585120233188,\n",
       " 0.7830486753820856,\n",
       " 0.7642086067341342,\n",
       " 0.7650515864168062,\n",
       " 0.7747211852441415]"
      ]
     },
     "execution_count": 25,
     "metadata": {},
     "output_type": "execute_result"
    }
   ],
   "source": [
    "min_avg_ratio"
   ]
  },
  {
   "cell_type": "markdown",
   "metadata": {},
   "source": [
    "If you're trying to use nearest neighbors in higher dimensions, it's probably a good idea to do some kind of dimensionality reduction first."
   ]
  }
 ],
 "metadata": {
  "kernelspec": {
   "display_name": "Python 3",
   "language": "python",
   "name": "python3"
  },
  "language_info": {
   "codemirror_mode": {
    "name": "ipython",
    "version": 3
   },
   "file_extension": ".py",
   "mimetype": "text/x-python",
   "name": "python",
   "nbconvert_exporter": "python",
   "pygments_lexer": "ipython3",
   "version": "3.7.3"
  }
 },
 "nbformat": 4,
 "nbformat_minor": 2
}
